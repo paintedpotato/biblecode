{
  "nbformat": 4,
  "nbformat_minor": 0,
  "metadata": {
    "colab": {
      "provenance": [],
      "authorship_tag": "ABX9TyOxq8XblvPn7huUdQMD1pdW",
      "include_colab_link": true
    },
    "kernelspec": {
      "name": "python3",
      "display_name": "Python 3"
    },
    "language_info": {
      "name": "python"
    }
  },
  "cells": [
    {
      "cell_type": "markdown",
      "metadata": {
        "id": "view-in-github",
        "colab_type": "text"
      },
      "source": [
        "<a href=\"https://colab.research.google.com/github/paintedpotato/biblecode/blob/main/Biblecode.ipynb\" target=\"_parent\"><img src=\"https://colab.research.google.com/assets/colab-badge.svg\" alt=\"Open In Colab\"/></a>"
      ]
    },
    {
      "cell_type": "markdown",
      "source": [
        "# This code only builds until the 8653rd index which is Deut. 1:45"
      ],
      "metadata": {
        "id": "vrji6wMvZLkO"
      }
    },
    {
      "cell_type": "code",
      "source": [
        "!pip install requests"
      ],
      "metadata": {
        "colab": {
          "base_uri": "https://localhost:8080/"
        },
        "id": "tojjJI65uj1R",
        "outputId": "7ba49721-0c63-434f-8331-0adc863cc9e4"
      },
      "execution_count": null,
      "outputs": [
        {
          "output_type": "stream",
          "name": "stdout",
          "text": [
            "Requirement already satisfied: requests in /usr/local/lib/python3.10/dist-packages (2.32.3)\n",
            "Requirement already satisfied: charset-normalizer<4,>=2 in /usr/local/lib/python3.10/dist-packages (from requests) (3.3.2)\n",
            "Requirement already satisfied: idna<4,>=2.5 in /usr/local/lib/python3.10/dist-packages (from requests) (3.8)\n",
            "Requirement already satisfied: urllib3<3,>=1.21.1 in /usr/local/lib/python3.10/dist-packages (from requests) (2.0.7)\n",
            "Requirement already satisfied: certifi>=2017.4.17 in /usr/local/lib/python3.10/dist-packages (from requests) (2024.8.30)\n"
          ]
        }
      ]
    },
    {
      "cell_type": "markdown",
      "source": [
        "# Code below is only for learning purposes, it doesn't work for some reason"
      ],
      "metadata": {
        "id": "mtsbhxERvGIm"
      }
    },
    {
      "cell_type": "code",
      "execution_count": null,
      "metadata": {
        "colab": {
          "base_uri": "https://localhost:8080/",
          "height": 353
        },
        "id": "r1aHhYRkuBCR",
        "outputId": "d3e9198d-ad14-4f53-a0d3-e3b8709ddfe2"
      },
      "outputs": [
        {
          "output_type": "error",
          "ename": "KeyError",
          "evalue": "'he'",
          "traceback": [
            "\u001b[0;31m---------------------------------------------------------------------------\u001b[0m",
            "\u001b[0;31mKeyError\u001b[0m                                  Traceback (most recent call last)",
            "\u001b[0;32m<ipython-input-3-b5bfb873fcdf>\u001b[0m in \u001b[0;36m<cell line: 33>\u001b[0;34m()\u001b[0m\n\u001b[1;32m     31\u001b[0m \u001b[0;34m\u001b[0m\u001b[0m\n\u001b[1;32m     32\u001b[0m \u001b[0;31m# Running the process\u001b[0m\u001b[0;34m\u001b[0m\u001b[0;34m\u001b[0m\u001b[0m\n\u001b[0;32m---> 33\u001b[0;31m \u001b[0mtorah_text\u001b[0m \u001b[0;34m=\u001b[0m \u001b[0mfetch_torah_from_sefaria\u001b[0m\u001b[0;34m(\u001b[0m\u001b[0;34m)\u001b[0m\u001b[0;34m\u001b[0m\u001b[0;34m\u001b[0m\u001b[0m\n\u001b[0m\u001b[1;32m     34\u001b[0m \u001b[0mletters_info\u001b[0m \u001b[0;34m=\u001b[0m \u001b[0mlist_letters_with_indices\u001b[0m\u001b[0;34m(\u001b[0m\u001b[0mtorah_text\u001b[0m\u001b[0;34m)\u001b[0m\u001b[0;34m\u001b[0m\u001b[0;34m\u001b[0m\u001b[0m\n\u001b[1;32m     35\u001b[0m \u001b[0;34m\u001b[0m\u001b[0m\n",
            "\u001b[0;32m<ipython-input-3-b5bfb873fcdf>\u001b[0m in \u001b[0;36mfetch_torah_from_sefaria\u001b[0;34m()\u001b[0m\n\u001b[1;32m      7\u001b[0m     \u001b[0mresponse\u001b[0m \u001b[0;34m=\u001b[0m \u001b[0mrequests\u001b[0m\u001b[0;34m.\u001b[0m\u001b[0mget\u001b[0m\u001b[0;34m(\u001b[0m\u001b[0murl\u001b[0m\u001b[0;34m)\u001b[0m\u001b[0;34m\u001b[0m\u001b[0;34m\u001b[0m\u001b[0m\n\u001b[1;32m      8\u001b[0m     \u001b[0mdata\u001b[0m \u001b[0;34m=\u001b[0m \u001b[0mresponse\u001b[0m\u001b[0;34m.\u001b[0m\u001b[0mjson\u001b[0m\u001b[0;34m(\u001b[0m\u001b[0;34m)\u001b[0m\u001b[0;34m\u001b[0m\u001b[0;34m\u001b[0m\u001b[0m\n\u001b[0;32m----> 9\u001b[0;31m     \u001b[0mtorah_text\u001b[0m \u001b[0;34m=\u001b[0m \u001b[0;34m' '\u001b[0m\u001b[0;34m.\u001b[0m\u001b[0mjoin\u001b[0m\u001b[0;34m(\u001b[0m\u001b[0mdata\u001b[0m\u001b[0;34m[\u001b[0m\u001b[0;34m'he'\u001b[0m\u001b[0;34m]\u001b[0m\u001b[0;34m)\u001b[0m  \u001b[0;31m# Joining all Hebrew text portions\u001b[0m\u001b[0;34m\u001b[0m\u001b[0;34m\u001b[0m\u001b[0m\n\u001b[0m\u001b[1;32m     10\u001b[0m     \u001b[0;32mreturn\u001b[0m \u001b[0mtorah_text\u001b[0m\u001b[0;34m\u001b[0m\u001b[0;34m\u001b[0m\u001b[0m\n\u001b[1;32m     11\u001b[0m \u001b[0;34m\u001b[0m\u001b[0m\n",
            "\u001b[0;31mKeyError\u001b[0m: 'he'"
          ]
        }
      ],
      "source": [
        "import requests\n",
        "import re\n",
        "\n",
        "# Fetching the full Torah text from Sefaria API\n",
        "def fetch_torah_from_sefaria():\n",
        "    url = 'https://www.sefaria.org/api/texts/Torah?lang=he'\n",
        "    response = requests.get(url)\n",
        "    data = response.json()\n",
        "    torah_text = ' '.join(data['he'])  # Joining all Hebrew text portions\n",
        "    return torah_text\n",
        "\n",
        "# Clean and prepare the Torah text\n",
        "def clean_text(text):\n",
        "    return re.sub(r'[^א-ת ]', '', text)\n",
        "\n",
        "# Function to list every letter with its index and the word it belongs to\n",
        "def list_letters_with_indices(text):\n",
        "    clean_torah = clean_text(text)\n",
        "    words = clean_torah.split()\n",
        "    letter_list = []\n",
        "    letter_index = 0\n",
        "    for word in words:\n",
        "        for letter in word:\n",
        "            letter_list.append({\n",
        "                'Letter': letter,\n",
        "                'Index': letter_index,\n",
        "                'Word in Hebrew': word\n",
        "            })\n",
        "            letter_index += 1\n",
        "    return letter_list\n",
        "\n",
        "# Running the process\n",
        "torah_text = fetch_torah_from_sefaria()\n",
        "letters_info = list_letters_with_indices(torah_text)\n",
        "\n",
        "# Display the first 20 entries as a demonstration\n",
        "for entry in letters_info[:20]:\n",
        "    print(f\"Letter: {entry['Letter']}, Index: {entry['Index']}, Word: {entry['Word in Hebrew']}\")\n"
      ]
    },
    {
      "cell_type": "markdown",
      "source": [
        "# This code works but only gets half job done"
      ],
      "metadata": {
        "id": "J5qhsECWvLuz"
      }
    },
    {
      "cell_type": "code",
      "source": [
        "import requests\n",
        "import re\n",
        "\n",
        "# Function to fetch the Torah from Sefaria\n",
        "def fetch_torah_from_sefaria():\n",
        "    books = ['Genesis', 'Exodus', 'Leviticus', 'Numbers', 'Deuteronomy']\n",
        "    torah_text = \"\"\n",
        "\n",
        "    # Loop through each book of the Torah\n",
        "    for book in books:\n",
        "        url = f\"https://www.sefaria.org/api/texts/{book}?lang=he\"\n",
        "        response = requests.get(url)\n",
        "        if response.status_code == 200:\n",
        "            data = response.json()\n",
        "            # Joining all chapters' Hebrew text for this book\n",
        "            torah_text += ' '.join(data['he']) + ' '\n",
        "        else:\n",
        "            print(f\"Failed to fetch {book}\")\n",
        "\n",
        "    return torah_text\n",
        "\n",
        "# Clean and prepare the Torah text\n",
        "def clean_text(text):\n",
        "    # Remove any non-Hebrew characters and keep only Hebrew letters and spaces\n",
        "    return re.sub(r'[^א-ת ]', '', text)\n",
        "\n",
        "# Function to list every letter with its index and the word it belongs to\n",
        "def list_letters_with_indices(text):\n",
        "    clean_torah = clean_text(text)\n",
        "    words = clean_torah.split()  # Split the text into words\n",
        "    letter_list = []\n",
        "    letter_index = 0\n",
        "\n",
        "    for word in words:\n",
        "        for letter in word:\n",
        "            letter_list.append({\n",
        "                'Letter': letter,\n",
        "                'Index': letter_index,\n",
        "                'Word in Hebrew': word\n",
        "            })\n",
        "            letter_index += 1  # Increment the index for each letter\n",
        "\n",
        "    return letter_list\n",
        "\n",
        "# Fetch the full Torah text\n",
        "torah_text = fetch_torah_from_sefaria()\n",
        "\n",
        "# Running the function\n",
        "letters_info = list_letters_with_indices(torah_text)\n",
        "\n",
        "# Displaying the first 20 letters as an example\n",
        "for entry in letters_info[:20]:\n",
        "    print(f\"Letter: {entry['Letter']}, Index: {entry['Index']}, Word: {entry['Word in Hebrew']}\")\n"
      ],
      "metadata": {
        "colab": {
          "base_uri": "https://localhost:8080/"
        },
        "id": "jTZpmY7kuuO5",
        "outputId": "09cdf66d-4c84-40c2-b7c2-109a5376af35"
      },
      "execution_count": null,
      "outputs": [
        {
          "output_type": "stream",
          "name": "stdout",
          "text": [
            "Letter: ב, Index: 0, Word: בראשית\n",
            "Letter: ר, Index: 1, Word: בראשית\n",
            "Letter: א, Index: 2, Word: בראשית\n",
            "Letter: ש, Index: 3, Word: בראשית\n",
            "Letter: י, Index: 4, Word: בראשית\n",
            "Letter: ת, Index: 5, Word: בראשית\n",
            "Letter: ב, Index: 6, Word: ברא\n",
            "Letter: ר, Index: 7, Word: ברא\n",
            "Letter: א, Index: 8, Word: ברא\n",
            "Letter: א, Index: 9, Word: אלהים\n",
            "Letter: ל, Index: 10, Word: אלהים\n",
            "Letter: ה, Index: 11, Word: אלהים\n",
            "Letter: י, Index: 12, Word: אלהים\n",
            "Letter: ם, Index: 13, Word: אלהים\n",
            "Letter: א, Index: 14, Word: את\n",
            "Letter: ת, Index: 15, Word: את\n",
            "Letter: ה, Index: 16, Word: השמים\n",
            "Letter: ש, Index: 17, Word: השמים\n",
            "Letter: מ, Index: 18, Word: השמים\n",
            "Letter: י, Index: 19, Word: השמים\n"
          ]
        }
      ]
    },
    {
      "cell_type": "markdown",
      "source": [
        "# Entire code"
      ],
      "metadata": {
        "id": "rtuFhhvnvQiD"
      }
    },
    {
      "cell_type": "code",
      "source": [
        "import requests\n",
        "import re\n",
        "import csv\n",
        "\n",
        "# Function to fetch the Torah from Sefaria\n",
        "def fetch_torah_from_sefaria():\n",
        "    books = ['Genesis', 'Exodus', 'Leviticus', 'Numbers', 'Deuteronomy']\n",
        "    torah_text = \"\"\n",
        "\n",
        "    # Loop through each book of the Torah\n",
        "    for book in books:\n",
        "        url = f\"https://www.sefaria.org/api/texts/{book}?lang=he\"\n",
        "        response = requests.get(url)\n",
        "        if response.status_code == 200:\n",
        "            data = response.json()\n",
        "            # Joining all chapters' Hebrew text for this book\n",
        "            torah_text += ' '.join(data['he']) + ' '\n",
        "        else:\n",
        "            print(f\"Failed to fetch {book}\")\n",
        "\n",
        "    return torah_text\n",
        "\n",
        "# Clean and prepare the Torah text\n",
        "def clean_text(text):\n",
        "    # Remove any non-Hebrew characters and keep only Hebrew letters and spaces\n",
        "    return re.sub(r'[^א-ת ]', '', text)\n",
        "\n",
        "# Function to list every letter with its index (starting from 1) and the word it belongs to\n",
        "def list_letters_with_indices(text):\n",
        "    clean_torah = clean_text(text)\n",
        "    words = clean_torah.split()  # Split the text into words\n",
        "    letter_list = []\n",
        "    letter_index = 1  # Start index from 1 instead of 0\n",
        "\n",
        "    for word in words:\n",
        "        for letter in word:\n",
        "            letter_list.append({\n",
        "                'Letter': letter,\n",
        "                'Index': letter_index,\n",
        "                'Word in Hebrew': word\n",
        "            })\n",
        "            letter_index += 1  # Increment the index for each letter\n",
        "\n",
        "    return letter_list\n",
        "\n",
        "# Save the letter list to a CSV file\n",
        "def save_to_csv(letters_info, filename):\n",
        "    # Define the column headers\n",
        "    fieldnames = ['Index', 'Letter', 'Word in Hebrew']\n",
        "\n",
        "    # Write to CSV file\n",
        "    with open(filename, mode='w', newline='', encoding='utf-8') as file:\n",
        "        writer = csv.DictWriter(file, fieldnames=fieldnames)\n",
        "        writer.writeheader()\n",
        "        for entry in letters_info:\n",
        "            writer.writerow(entry)\n",
        "\n",
        "# Fetch the full Torah text\n",
        "torah_text = fetch_torah_from_sefaria()\n",
        "\n",
        "# Get the list of letters with their indices and corresponding word\n",
        "letters_info = list_letters_with_indices(torah_text)\n",
        "\n",
        "# Save the results to a CSV file\n",
        "save_to_csv(letters_info, 'torah_letters.csv')\n",
        "\n",
        "print(f\"Saved {len(letters_info)} letters to torah_letters.csv\")\n"
      ],
      "metadata": {
        "colab": {
          "base_uri": "https://localhost:8080/"
        },
        "id": "Oa33PAgovSH2",
        "outputId": "167fe6c8-b722-49c1-9137-b11928dc3187"
      },
      "execution_count": null,
      "outputs": [
        {
          "output_type": "stream",
          "name": "stdout",
          "text": [
            "Saved 8653 letters to torah_letters.csv\n"
          ]
        }
      ]
    },
    {
      "cell_type": "markdown",
      "source": [
        "# Code to find the sequence \"tav\" \"vav\" \"resh\" \"hey\" and output the indices"
      ],
      "metadata": {
        "id": "xpnJmrTo0MtN"
      }
    },
    {
      "cell_type": "code",
      "source": [
        "import csv\n",
        "\n",
        "# Function to read the CSV and load the letter data\n",
        "def read_torah_csv(filename):\n",
        "    letters_info = []\n",
        "\n",
        "    with open(filename, mode='r', encoding='utf-8') as file:\n",
        "        reader = csv.DictReader(file)\n",
        "        for row in reader:\n",
        "            letters_info.append({\n",
        "                'Index': int(row['Index']),\n",
        "                'Letter': row['Letter'],\n",
        "                'Word in Hebrew': row['Word in Hebrew']\n",
        "            })\n",
        "\n",
        "    return letters_info\n",
        "\n",
        "# Function to find sequences of Tav, Vav, Resh, Hey separated by 50 letters\n",
        "def find_tav_vav_resh_hey_sequences(letters_info):\n",
        "    sequences = []\n",
        "\n",
        "    # Loop through the list of letters\n",
        "    for i in range(len(letters_info) - 150):\n",
        "        if (letters_info[i]['Letter'] == 'ת' and\n",
        "            letters_info[i + 50]['Letter'] == 'ו' and\n",
        "            letters_info[i + 100]['Letter'] == 'ר' and\n",
        "            letters_info[i + 150]['Letter'] == 'ה'):\n",
        "            sequences.append({\n",
        "                'Tav Index': letters_info[i]['Index'],\n",
        "                'Tav Word': letters_info[i]['Word in Hebrew'],\n",
        "                'Vav Index': letters_info[i + 50]['Index'],\n",
        "                'Vav Word': letters_info[i + 50]['Word in Hebrew'],\n",
        "                'Resh Index': letters_info[i + 100]['Index'],\n",
        "                'Resh Word': letters_info[i + 100]['Word in Hebrew'],\n",
        "                'Hey Index': letters_info[i + 150]['Index'],\n",
        "                'Hey Word': letters_info[i + 150]['Word in Hebrew']\n",
        "            })\n",
        "\n",
        "    return sequences\n",
        "\n",
        "# Function to print the sequences found\n",
        "def print_sequences(sequences):\n",
        "    for seq in sequences:\n",
        "        print(f\"Tav at index {seq['Tav Index']} (Word: {seq['Tav Word']})\")\n",
        "        print(f\"Vav at index {seq['Vav Index']} (Word: {seq['Vav Word']})\")\n",
        "        print(f\"Resh at index {seq['Resh Index']} (Word: {seq['Resh Word']})\")\n",
        "        print(f\"Hey at index {seq['Hey Index']} (Word: {seq['Hey Word']})\")\n",
        "        print('-' * 40)\n",
        "\n",
        "# Main process\n",
        "filename = 'torah_letters.csv'  # The CSV file generated earlier\n",
        "letters_info = read_torah_csv(filename)\n",
        "\n",
        "# Find and print the sequences\n",
        "sequences = find_tav_vav_resh_hey_sequences(letters_info)\n",
        "print_sequences(sequences)\n",
        "\n",
        "# Optionally, you can save the sequences to another CSV file if needed.\n"
      ],
      "metadata": {
        "colab": {
          "base_uri": "https://localhost:8080/"
        },
        "id": "3pfhNZ3w0MBz",
        "outputId": "733bd306-6749-44ff-a35a-633e725b1d98"
      },
      "execution_count": null,
      "outputs": [
        {
          "output_type": "stream",
          "name": "stdout",
          "text": [
            "Tav at index 6 (Word: בראשית)\n",
            "Vav at index 56 (Word: תהום)\n",
            "Resh at index 106 (Word: וירא)\n",
            "Hey at index 156 (Word: אלהיםלאור)\n",
            "----------------------------------------\n",
            "Tav at index 1685 (Word: שמות)\n",
            "Vav at index 1735 (Word: ויהודה)\n",
            "Resh at index 1785 (Word: ירךיעקב)\n",
            "Hey at index 1835 (Word: ההוא)\n",
            "----------------------------------------\n",
            "Tav at index 5879 (Word: אתו)\n",
            "Vav at index 5929 (Word: עלדגלו)\n",
            "Resh at index 5979 (Word: ישראל)\n",
            "Hey at index 6029 (Word: צוה)\n",
            "----------------------------------------\n",
            "Tav at index 8445 (Word: תנגפו)\n",
            "Vav at index 8495 (Word: ותזדו)\n",
            "Resh at index 8545 (Word: כאשר)\n",
            "Hey at index 8595 (Word: יהוה)\n",
            "----------------------------------------\n"
          ]
        }
      ]
    },
    {
      "cell_type": "markdown",
      "source": [
        "# Code to find the reverse of TORH"
      ],
      "metadata": {
        "id": "pd0X3taQpL-P"
      }
    },
    {
      "cell_type": "code",
      "source": [
        "import csv\n",
        "\n",
        "# Function to read the CSV and load the letter data\n",
        "def read_torah_csv(filename):\n",
        "    letters_info = []\n",
        "\n",
        "    with open(filename, mode='r', encoding='utf-8') as file:\n",
        "        reader = csv.DictReader(file)\n",
        "        for row in reader:\n",
        "            letters_info.append({\n",
        "                'Index': int(row['Index']),\n",
        "                'Letter': row['Letter'],\n",
        "                'Word in Hebrew': row['Word in Hebrew']\n",
        "            })\n",
        "\n",
        "    return letters_info\n",
        "\n",
        "# Function to find sequences of Tav, Vav, Resh, Hey separated by 50 letters\n",
        "def find_tav_vav_resh_hey_sequences(letters_info):\n",
        "    sequences = []\n",
        "\n",
        "    # Loop through the list of letters\n",
        "    for i in range(len(letters_info) - 150):\n",
        "        if (letters_info[i]['Letter'] == 'ה' and\n",
        "            letters_info[i + 50]['Letter'] == 'ר' and\n",
        "            letters_info[i + 100]['Letter'] == 'ו' and\n",
        "            letters_info[i + 150]['Letter'] == 'ת'):\n",
        "            sequences.append({\n",
        "                'Hey Index': letters_info[i]['Index'],\n",
        "                'Hey Word': letters_info[i]['Word in Hebrew'],\n",
        "                'Resh Index': letters_info[i + 50]['Index'],\n",
        "                'Resh Word': letters_info[i + 50]['Word in Hebrew'],\n",
        "                'Vav Index': letters_info[i + 100]['Index'],\n",
        "                'Vav Word': letters_info[i + 100]['Word in Hebrew'],\n",
        "                'Tav Index': letters_info[i + 150]['Index'],\n",
        "                'Tav Word': letters_info[i + 150]['Word in Hebrew']\n",
        "            })\n",
        "\n",
        "    return sequences\n",
        "\n",
        "# Function to print the sequences found\n",
        "def print_sequences(sequences):\n",
        "    for seq in sequences:\n",
        "        print(f\"Hey at index {seq['Hey Index']} (Word: {seq['Hey Word']})\")\n",
        "        print(f\"Resh at index {seq['Resh Index']} (Word: {seq['Resh Word']})\")\n",
        "        print(f\"Vav at index {seq['Vav Index']} (Word: {seq['Vav Word']})\")\n",
        "        print(f\"Tav at index {seq['Tav Index']} (Word: {seq['Tav Word']})\")\n",
        "        print('-' * 40)\n",
        "\n",
        "# Main process\n",
        "filename = 'torah_letters.csv'  # The CSV file generated earlier\n",
        "letters_info = read_torah_csv(filename)\n",
        "\n",
        "# Find and print the sequences\n",
        "sequences = find_tav_vav_resh_hey_sequences(letters_info)\n",
        "print_sequences(sequences)\n",
        "\n",
        "# Optionally, you can save the sequences to another CSV file if needed.\n"
      ],
      "metadata": {
        "colab": {
          "base_uri": "https://localhost:8080/"
        },
        "outputId": "87162880-7c2c-47ac-c35b-f0726909817a",
        "id": "BsTRtErEpLMS"
      },
      "execution_count": null,
      "outputs": [
        {
          "output_type": "stream",
          "name": "stdout",
          "text": [
            "Hey at index 3604 (Word: אלמשה)\n",
            "Resh at index 3654 (Word: מצרים)\n",
            "Vav at index 3704 (Word: שמות)\n",
            "Tav at index 3754 (Word: אתם)\n",
            "----------------------------------------\n"
          ]
        }
      ]
    },
    {
      "cell_type": "markdown",
      "source": [
        "# Code to find YAHWEH"
      ],
      "metadata": {
        "id": "KxbWKAErrpgG"
      }
    },
    {
      "cell_type": "code",
      "source": [
        "import csv\n",
        "\n",
        "# Function to read the CSV and load the letter data\n",
        "def read_torah_csv(filename):\n",
        "    letters_info = []\n",
        "\n",
        "    with open(filename, mode='r', encoding='utf-8') as file:\n",
        "        reader = csv.DictReader(file)\n",
        "        for row in reader:\n",
        "            letters_info.append({\n",
        "                'Index': int(row['Index']),\n",
        "                'Letter': row['Letter'],\n",
        "                'Word in Hebrew': row['Word in Hebrew']\n",
        "            })\n",
        "\n",
        "    return letters_info\n",
        "\n",
        "# Function to find sequences of Tav, Vav, Resh, Hey separated by 50 letters\n",
        "def find_yod_hey_vav_hey_sequences(letters_info):\n",
        "    sequences = []\n",
        "\n",
        "    # Loop through the list of letters\n",
        "    for i in range(len(letters_info) - 150):\n",
        "        if (letters_info[i]['Letter'] == 'י' and\n",
        "            letters_info[i + 50]['Letter'] == 'ה' and\n",
        "            letters_info[i + 100]['Letter'] == 'ו' and\n",
        "            letters_info[i + 150]['Letter'] == 'ה'):\n",
        "            sequences.append({\n",
        "                'Yod Index': letters_info[i]['Index'],\n",
        "                'Yod Word': letters_info[i]['Word in Hebrew'],\n",
        "                'Hey Index': letters_info[i + 50]['Index'],\n",
        "                'Hey Word': letters_info[i + 50]['Word in Hebrew'],\n",
        "                'Vav Index': letters_info[i + 100]['Index'],\n",
        "                'Vav Word': letters_info[i + 100]['Word in Hebrew'],\n",
        "                'Hey Index': letters_info[i + 150]['Index'],\n",
        "                'Hey Word': letters_info[i + 150]['Word in Hebrew']\n",
        "            })\n",
        "\n",
        "    return sequences\n",
        "\n",
        "# Function to print the sequences found\n",
        "def print_sequences(sequences):\n",
        "    for seq in sequences:\n",
        "        print(f\"Yod at index {seq['Yod Index']} (Word: {seq['Yod Word']})\")\n",
        "        print(f\"Hey at index {seq['Hey Index']} (Word: {seq['Hey Word']})\")\n",
        "        print(f\"Vav at index {seq['Vav Index']} (Word: {seq['Vav Word']})\")\n",
        "        print(f\"Hey at index {seq['Hey Index']} (Word: {seq['Hey Word']})\")\n",
        "        print('-' * 40)\n",
        "\n",
        "# Main process\n",
        "filename = 'torah_letters.csv'  # The CSV file generated earlier\n",
        "letters_info = read_torah_csv(filename)\n",
        "\n",
        "# Find and print the sequences\n",
        "sequences = find_yod_hey_vav_hey_sequences(letters_info)\n",
        "print_sequences(sequences)\n",
        "\n",
        "# Optionally, you can save the sequences to another CSV file if needed.\n"
      ],
      "metadata": {
        "id": "zBWsqO50sOsa"
      },
      "execution_count": null,
      "outputs": []
    },
    {
      "cell_type": "markdown",
      "source": [
        "# Extending beyond Deut. 1:45\n",
        "\n",
        "The trial below only gives 86 letters as it is not complete"
      ],
      "metadata": {
        "id": "Y_wpHLjNZW30"
      }
    },
    {
      "cell_type": "code",
      "source": [
        "!pip install pandas"
      ],
      "metadata": {
        "colab": {
          "base_uri": "https://localhost:8080/"
        },
        "id": "9kTfLfDfbUNP",
        "outputId": "7717a023-8779-495f-8930-c81f3b13be32"
      },
      "execution_count": 2,
      "outputs": [
        {
          "output_type": "stream",
          "name": "stdout",
          "text": [
            "Requirement already satisfied: pandas in /usr/local/lib/python3.10/dist-packages (2.1.4)\n",
            "Requirement already satisfied: numpy<2,>=1.22.4 in /usr/local/lib/python3.10/dist-packages (from pandas) (1.26.4)\n",
            "Requirement already satisfied: python-dateutil>=2.8.2 in /usr/local/lib/python3.10/dist-packages (from pandas) (2.8.2)\n",
            "Requirement already satisfied: pytz>=2020.1 in /usr/local/lib/python3.10/dist-packages (from pandas) (2024.2)\n",
            "Requirement already satisfied: tzdata>=2022.1 in /usr/local/lib/python3.10/dist-packages (from pandas) (2024.1)\n",
            "Requirement already satisfied: six>=1.5 in /usr/local/lib/python3.10/dist-packages (from python-dateutil>=2.8.2->pandas) (1.16.0)\n"
          ]
        }
      ]
    },
    {
      "cell_type": "code",
      "source": [
        "import pandas as pd\n",
        "\n",
        "# List of CSV file paths\n",
        "csv_files = ['file1.csv', 'file2.csv', 'file3.csv', 'file4.csv', 'file5.csv']\n",
        "\n",
        "# Load all CSV files into a list of DataFrames\n",
        "dataframes = [pd.read_csv(file) for file in csv_files]\n",
        "\n",
        "# Concatenate all DataFrames into one\n",
        "merged_df = pd.concat(dataframes, ignore_index=True)\n",
        "\n",
        "# Save the merged DataFrame to a new CSV file\n",
        "merged_df.to_csv('merged_file.csv', index=False)\n",
        "\n",
        "print(\"CSV files have been merged successfully into 'merged_file.csv'.\")\n"
      ],
      "metadata": {
        "colab": {
          "base_uri": "https://localhost:8080/"
        },
        "id": "_0E63DVtcib5",
        "outputId": "e899aa9f-4c2d-4cea-d975-07a5fba80fb6"
      },
      "execution_count": 14,
      "outputs": [
        {
          "output_type": "stream",
          "name": "stdout",
          "text": [
            "CSV files have been merged successfully into 'merged_file.csv'.\n"
          ]
        }
      ]
    },
    {
      "cell_type": "markdown",
      "source": [
        "# Code to index the FULL torah text (beyond Deut 1:45)"
      ],
      "metadata": {
        "id": "VrqoGdizdrcj"
      }
    },
    {
      "cell_type": "code",
      "source": [
        "import pandas as pd\n",
        "\n",
        "# Load the CSV file\n",
        "df = pd.read_csv('cleaned_merged_file_sefaria_full.csv', header=None)\n",
        "\n",
        "# Initialize variables for storing the letters and their index\n",
        "letters = []\n",
        "index = 1\n",
        "\n",
        "# Iterate through each row (verse) in the dataframe\n",
        "for _, row in df.iterrows():\n",
        "    verse = row[0].replace(\" \", \"\")  # Remove spaces from the verse\n",
        "    words = row[0].split()  # Split verse into words\n",
        "\n",
        "    # Iterate through each word in the verse\n",
        "    for word in words:\n",
        "        cleaned_word = word.replace(\" \", \"\")  # Clean any remaining spaces\n",
        "\n",
        "        # Iterate through each letter in the word\n",
        "        for letter in cleaned_word:\n",
        "            # Store the letter along with its index and the word it belongs to\n",
        "            letters.append([index, letter, cleaned_word])\n",
        "            index += 1  # Increment the index for the next letter\n",
        "\n",
        "# Convert the letters data into a new dataframe\n",
        "letters_df = pd.DataFrame(letters, columns=['Index', 'Letter', 'Hebrew Word'])\n",
        "\n",
        "# Save the resulting dataframe to a new CSV\n",
        "letters_df.to_csv('indexed_letters_with_words.csv', index=False)\n",
        "\n",
        "print(\"Indexed letters and their respective words have been saved successfully to 'indexed_letters_with_words.csv'.\")\n"
      ],
      "metadata": {
        "colab": {
          "base_uri": "https://localhost:8080/"
        },
        "id": "d-hZoc9Ag8Mc",
        "outputId": "f88bcbb4-41dc-4425-85cc-9fb115a17b14"
      },
      "execution_count": 15,
      "outputs": [
        {
          "output_type": "stream",
          "name": "stdout",
          "text": [
            "Indexed letters and their respective words have been saved successfully to 'indexed_letters_with_words.csv'.\n"
          ]
        }
      ]
    },
    {
      "cell_type": "markdown",
      "source": [
        "# 21 TORAHs in the TORAH in 50s"
      ],
      "metadata": {
        "id": "iTTKS2znpiha"
      }
    },
    {
      "cell_type": "code",
      "source": [
        "import csv\n",
        "\n",
        "# Function to read the CSV and load the letter data\n",
        "def read_torah_csv(filename):\n",
        "    letters_info = []\n",
        "\n",
        "    with open(filename, mode='r', encoding='utf-8') as file:\n",
        "        reader = csv.DictReader(file)\n",
        "        for row in reader:\n",
        "            letters_info.append({\n",
        "                'Index': int(row['Index']),\n",
        "                'Letter': row['Letter'],\n",
        "                'Hebrew Word': row['Hebrew Word']\n",
        "            })\n",
        "\n",
        "    return letters_info\n",
        "\n",
        "# Function to find sequences of Tav, Vav, Resh, Hey separated by 50 letters\n",
        "def find_tav_vav_resh_hey_sequences(letters_info):\n",
        "    sequences = []\n",
        "\n",
        "    # Loop through the list of letters\n",
        "    for i in range(len(letters_info) - 150):\n",
        "        if (letters_info[i]['Letter'] == 'ת' and\n",
        "            letters_info[i + 50]['Letter'] == 'ו' and\n",
        "            letters_info[i + 100]['Letter'] == 'ר' and\n",
        "            letters_info[i + 150]['Letter'] == 'ה'):\n",
        "            sequences.append({\n",
        "                'Tav Index': letters_info[i]['Index'],\n",
        "                'Tav Word': letters_info[i]['Hebrew Word'],\n",
        "                'Vav Index': letters_info[i + 50]['Index'],\n",
        "                'Vav Word': letters_info[i + 50]['Hebrew Word'],\n",
        "                'Resh Index': letters_info[i + 100]['Index'],\n",
        "                'Resh Word': letters_info[i + 100]['Hebrew Word'],\n",
        "                'Hey Index': letters_info[i + 150]['Index'],\n",
        "                'Hey Word': letters_info[i + 150]['Hebrew Word']\n",
        "            })\n",
        "\n",
        "    return sequences\n",
        "\n",
        "# Function to print the sequences found\n",
        "def print_sequences(sequences):\n",
        "    for seq in sequences:\n",
        "        print(f\"Tav at index {seq['Tav Index']} (Word: {seq['Tav Word']})\")\n",
        "        print(f\"Vav at index {seq['Vav Index']} (Word: {seq['Vav Word']})\")\n",
        "        print(f\"Resh at index {seq['Resh Index']} (Word: {seq['Resh Word']})\")\n",
        "        print(f\"Hey at index {seq['Hey Index']} (Word: {seq['Hey Word']})\")\n",
        "        print('-' * 40)\n",
        "\n",
        "# Main process\n",
        "filename = 'indexed_letters_with_words.csv'  # The CSV file generated earlier\n",
        "letters_info = read_torah_csv(filename)\n",
        "\n",
        "# Find and print the sequences\n",
        "sequences = find_tav_vav_resh_hey_sequences(letters_info)\n",
        "print_sequences(sequences)\n",
        "\n",
        "# Optionally, you can save the sequences to another CSV file if needed.\n"
      ],
      "metadata": {
        "colab": {
          "base_uri": "https://localhost:8080/"
        },
        "outputId": "dc9d07bc-3389-4e74-d9f8-63197bcde114",
        "id": "0fbUn_BSd9z1"
      },
      "execution_count": 17,
      "outputs": [
        {
          "output_type": "stream",
          "name": "stdout",
          "text": [
            "Tav at index 6 (Word: בראשית)\n",
            "Vav at index 56 (Word: תהום)\n",
            "Resh at index 106 (Word: וירא)\n",
            "Hey at index 156 (Word: אלהים)\n",
            "----------------------------------------\n",
            "Tav at index 18744 (Word: ותאמר)\n",
            "Vav at index 18794 (Word: והתעני)\n",
            "Resh at index 18844 (Word: מרב)\n",
            "Hey at index 18894 (Word: יהוה)\n",
            "----------------------------------------\n",
            "Tav at index 76431 (Word: וזאת)\n",
            "Vav at index 76481 (Word: ויאמר)\n",
            "Resh at index 76531 (Word: עפרון)\n",
            "Hey at index 76581 (Word: קנה)\n",
            "----------------------------------------\n",
            "Tav at index 78185 (Word: שמות)\n",
            "Vav at index 78235 (Word: ויהודה)\n",
            "Resh at index 78285 (Word: ירך)\n",
            "Hey at index 78335 (Word: ההוא)\n",
            "----------------------------------------\n",
            "Tav at index 94585 (Word: אתו)\n",
            "Vav at index 94635 (Word: בחפזון)\n",
            "Resh at index 94685 (Word: בארץ)\n",
            "Hey at index 94735 (Word: והיה)\n",
            "----------------------------------------\n",
            "Tav at index 96700 (Word: תשברו)\n",
            "Vav at index 96750 (Word: המול)\n",
            "Resh at index 96800 (Word: תורה)\n",
            "Hey at index 96850 (Word: יהוה)\n",
            "----------------------------------------\n",
            "Tav at index 98424 (Word: את)\n",
            "Vav at index 98474 (Word: בחור)\n",
            "Resh at index 98524 (Word: וירדף)\n",
            "Hey at index 98574 (Word: אחריהם)\n",
            "----------------------------------------\n",
            "Tav at index 98849 (Word: את)\n",
            "Vav at index 98899 (Word: ישועת)\n",
            "Resh at index 98949 (Word: לראתם)\n",
            "Hey at index 98999 (Word: מה)\n",
            "----------------------------------------\n",
            "Tav at index 119166 (Word: את)\n",
            "Vav at index 119216 (Word: תעשנו)\n",
            "Resh at index 119266 (Word: זרת)\n",
            "Hey at index 119316 (Word: פטדה)\n",
            "----------------------------------------\n",
            "Tav at index 128939 (Word: מצאת)\n",
            "Vav at index 128989 (Word: טובי)\n",
            "Resh at index 129039 (Word: אשר)\n",
            "Hey at index 129089 (Word: הנה)\n",
            "----------------------------------------\n",
            "Tav at index 138472 (Word: תכלת)\n",
            "Vav at index 138522 (Word: וזרת)\n",
            "Resh at index 138572 (Word: הטור)\n",
            "Hey at index 138622 (Word: והטור)\n",
            "----------------------------------------\n",
            "Tav at index 146109 (Word: קרנת)\n",
            "Vav at index 146159 (Word: הוסר)\n",
            "Resh at index 146209 (Word: וכפר)\n",
            "Hey at index 146259 (Word: יביאנה)\n",
            "----------------------------------------\n",
            "Tav at index 160933 (Word: ממארת)\n",
            "Vav at index 160983 (Word: או)\n",
            "Resh at index 161033 (Word: יראה)\n",
            "Hey at index 161083 (Word: וצוה)\n",
            "----------------------------------------\n",
            "Tav at index 160979 (Word: בפשתים)\n",
            "Vav at index 161029 (Word: ואם)\n",
            "Resh at index 161079 (Word: עור)\n",
            "Hey at index 161129 (Word: הכהן)\n",
            "----------------------------------------\n",
            "Tav at index 188879 (Word: אתו)\n",
            "Vav at index 188929 (Word: דגלו)\n",
            "Resh at index 188979 (Word: ישראל)\n",
            "Hey at index 189029 (Word: צוה)\n",
            "----------------------------------------\n",
            "Tav at index 193492 (Word: ישרתו)\n",
            "Vav at index 193542 (Word: המוט)\n",
            "Resh at index 193592 (Word: אשר)\n",
            "Hey at index 193642 (Word: המזבח)\n",
            "----------------------------------------\n",
            "Tav at index 215339 (Word: ציצת)\n",
            "Vav at index 215389 (Word: יהוה)\n",
            "Resh at index 215439 (Word: אחריהם)\n",
            "Hey at index 215489 (Word: יהוה)\n",
            "----------------------------------------\n",
            "Tav at index 252627 (Word: תנגפו)\n",
            "Vav at index 252677 (Word: ותזדו)\n",
            "Resh at index 252727 (Word: כאשר)\n",
            "Hey at index 252777 (Word: יהוה)\n",
            "----------------------------------------\n",
            "Tav at index 268945 (Word: את)\n",
            "Vav at index 268995 (Word: ידו)\n",
            "Resh at index 269045 (Word: לפרעה)\n",
            "Hey at index 269095 (Word: הציף)\n",
            "----------------------------------------\n",
            "Tav at index 294005 (Word: זיתים)\n",
            "Vav at index 294055 (Word: ולא)\n",
            "Resh at index 294105 (Word: בקרבך)\n",
            "Hey at index 294155 (Word: הוא)\n",
            "----------------------------------------\n",
            "Tav at index 297009 (Word: הכתובה)\n",
            "Vav at index 297059 (Word: והנכרי)\n",
            "Resh at index 297109 (Word: אשר)\n",
            "Hey at index 297159 (Word: בה)\n",
            "----------------------------------------\n"
          ]
        }
      ]
    },
    {
      "cell_type": "markdown",
      "source": [
        "# 13 mentions of Reverse \"Torah\" i.e. don't play with this"
      ],
      "metadata": {
        "id": "X60I9IUTbSzR"
      }
    },
    {
      "cell_type": "code",
      "source": [
        "import csv\n",
        "\n",
        "# Function to read the CSV and load the letter data\n",
        "def read_torah_csv(filename):\n",
        "    letters_info = []\n",
        "\n",
        "    with open(filename, mode='r', encoding='utf-8') as file:\n",
        "        reader = csv.DictReader(file)\n",
        "        for row in reader:\n",
        "            letters_info.append({\n",
        "                'Index': int(row['Index']),\n",
        "                'Letter': row['Letter'],\n",
        "                'Hebrew Word': row['Hebrew Word']\n",
        "            })\n",
        "\n",
        "    return letters_info\n",
        "\n",
        "# Function to find sequences of Tav, Vav, Resh, Hey separated by 50 letters\n",
        "def find_tav_vav_resh_hey_sequences(letters_info):\n",
        "    sequences = []\n",
        "\n",
        "    # Loop through the list of letters\n",
        "    for i in range(len(letters_info) - 150):\n",
        "        if (letters_info[i]['Letter'] == 'ה' and\n",
        "            letters_info[i + 50]['Letter'] == 'ר' and\n",
        "            letters_info[i + 100]['Letter'] == 'ו' and\n",
        "            letters_info[i + 150]['Letter'] == 'ת'):\n",
        "            sequences.append({\n",
        "                'Hey Index': letters_info[i]['Index'],\n",
        "                'Hey Word': letters_info[i]['Hebrew Word'],\n",
        "                'Resh Index': letters_info[i + 50]['Index'],\n",
        "                'Resh Word': letters_info[i + 50]['Hebrew Word'],\n",
        "                'Vav Index': letters_info[i + 100]['Index'],\n",
        "                'Vav Word': letters_info[i + 100]['Hebrew Word'],\n",
        "                'Tav Index': letters_info[i + 150]['Index'],\n",
        "                'Tav Word': letters_info[i + 150]['Hebrew Word']\n",
        "            })\n",
        "\n",
        "    return sequences\n",
        "\n",
        "# Function to print the sequences found\n",
        "def print_sequences(sequences):\n",
        "    for seq in sequences:\n",
        "        print(f\"Hey at index {seq['Hey Index']} (Word: {seq['Hey Word']})\")\n",
        "        print(f\"Resh at index {seq['Resh Index']} (Word: {seq['Resh Word']})\")\n",
        "        print(f\"Vav at index {seq['Vav Index']} (Word: {seq['Vav Word']})\")\n",
        "        print(f\"Tav at index {seq['Tav Index']} (Word: {seq['Tav Word']})\")\n",
        "        print('-' * 40)\n",
        "\n",
        "# Main process\n",
        "filename = 'indexed_letters_with_words.csv'  # The CSV file generated earlier\n",
        "letters_info = read_torah_csv(filename)\n",
        "\n",
        "# Find and print the sequences\n",
        "sequences = find_tav_vav_resh_hey_sequences(letters_info)\n",
        "print_sequences(sequences)\n",
        "\n",
        "# Optionally, you can save the sequences to another CSV file if needed.\n"
      ],
      "metadata": {
        "colab": {
          "base_uri": "https://localhost:8080/"
        },
        "outputId": "16dadc65-95b4-4a1f-d5c9-dd6a89fc96b1",
        "id": "mwbDF1WDouFH"
      },
      "execution_count": 19,
      "outputs": [
        {
          "output_type": "stream",
          "name": "stdout",
          "text": [
            "Hey at index 18165 (Word: יהוה)\n",
            "Resh at index 18215 (Word: הנהר)\n",
            "Vav at index 18265 (Word: ואת)\n",
            "Tav at index 18315 (Word: אשת)\n",
            "----------------------------------------\n",
            "Hey at index 30278 (Word: בתולה)\n",
            "Resh at index 30328 (Word: ויאמר)\n",
            "Vav at index 30378 (Word: ותשקהו)\n",
            "Tav at index 30428 (Word: ותער)\n",
            "----------------------------------------\n",
            "Hey at index 32080 (Word: הנה)\n",
            "Resh at index 32130 (Word: כאשר)\n",
            "Vav at index 32180 (Word: וכלי)\n",
            "Tav at index 32230 (Word: וישתו)\n",
            "----------------------------------------\n",
            "Hey at index 131140 (Word: המסוה)\n",
            "Resh at index 131190 (Word: ויאמר)\n",
            "Vav at index 131240 (Word: וביום)\n",
            "Tav at index 131290 (Word: תבערו)\n",
            "----------------------------------------\n",
            "Hey at index 145287 (Word: אהל)\n",
            "Resh at index 145337 (Word: הפר)\n",
            "Vav at index 145387 (Word: אצבעו)\n",
            "Tav at index 145437 (Word: קרנת)\n",
            "----------------------------------------\n",
            "Hey at index 165221 (Word: יהוה)\n",
            "Resh at index 165271 (Word: הערב)\n",
            "Vav at index 165321 (Word: ואשה)\n",
            "Tav at index 165371 (Word: תהיה)\n",
            "----------------------------------------\n",
            "Hey at index 171526 (Word: ובשנה)\n",
            "Resh at index 171576 (Word: פריו)\n",
            "Vav at index 171626 (Word: ולא)\n",
            "Tav at index 171676 (Word: תתנו)\n",
            "----------------------------------------\n",
            "Hey at index 186635 (Word: משה)\n",
            "Resh at index 186685 (Word: מצרים)\n",
            "Vav at index 186735 (Word: שמות)\n",
            "Tav at index 186785 (Word: אתם)\n",
            "----------------------------------------\n",
            "Hey at index 216558 (Word: אהל)\n",
            "Resh at index 216608 (Word: וירא)\n",
            "Vav at index 216658 (Word: מתוך)\n",
            "Tav at index 216708 (Word: הרוחת)\n",
            "----------------------------------------\n",
            "Hey at index 260628 (Word: האדמה)\n",
            "Resh at index 260678 (Word: ברעך)\n",
            "Vav at index 260728 (Word: שורו)\n",
            "Tav at index 260778 (Word: מתוך)\n",
            "----------------------------------------\n",
            "Hey at index 265031 (Word: אבניה)\n",
            "Resh at index 265081 (Word: הארץ)\n",
            "Vav at index 265131 (Word: מצותיו)\n",
            "Tav at index 265181 (Word: תבנה)\n",
            "----------------------------------------\n",
            "Hey at index 270646 (Word: לרשתה)\n",
            "Resh at index 270696 (Word: הירדן)\n",
            "Vav at index 270746 (Word: אלוני)\n",
            "Tav at index 270796 (Word: נתן)\n",
            "----------------------------------------\n",
            "Hey at index 301076 (Word: לאלהינו)\n",
            "Resh at index 301126 (Word: וישר)\n",
            "Vav at index 301176 (Word: ולא)\n",
            "Tav at index 301226 (Word: שנות)\n",
            "----------------------------------------\n"
          ]
        }
      ]
    },
    {
      "cell_type": "markdown",
      "source": [
        "# 25 mentions for YAHWEH in 50s"
      ],
      "metadata": {
        "id": "1UdrhlptpOjb"
      }
    },
    {
      "cell_type": "code",
      "source": [
        "import csv\n",
        "\n",
        "# Function to read the CSV and load the letter data\n",
        "def read_torah_csv(filename):\n",
        "    letters_info = []\n",
        "\n",
        "    with open(filename, mode='r', encoding='utf-8') as file:\n",
        "        reader = csv.DictReader(file)\n",
        "        for row in reader:\n",
        "            letters_info.append({\n",
        "                'Index': int(row['Index']),\n",
        "                'Letter': row['Letter'],\n",
        "                'Hebrew Word': row['Hebrew Word']\n",
        "            })\n",
        "\n",
        "    return letters_info\n",
        "\n",
        "# Function to find sequences of Tav, Vav, Resh, Hey separated by 50 letters\n",
        "def find_yod_hey_vav_hey_sequences(letters_info):\n",
        "    sequences = []\n",
        "\n",
        "    # Loop through the list of letters\n",
        "    for i in range(len(letters_info) - 150):\n",
        "        if (letters_info[i]['Letter'] == 'י' and\n",
        "            letters_info[i + 50]['Letter'] == 'ה' and\n",
        "            letters_info[i + 100]['Letter'] == 'ו' and\n",
        "            letters_info[i + 150]['Letter'] == 'ה'):\n",
        "            sequences.append({\n",
        "                'Yod Index': letters_info[i]['Index'],\n",
        "                'Yod Word': letters_info[i]['Hebrew Word'],\n",
        "                'Hey Index': letters_info[i + 50]['Index'],\n",
        "                'Hey Word': letters_info[i + 50]['Hebrew Word'],\n",
        "                'Vav Index': letters_info[i + 100]['Index'],\n",
        "                'Vav Word': letters_info[i + 100]['Hebrew Word'],\n",
        "                'Hey Index': letters_info[i + 150]['Index'],\n",
        "                'Hey Word': letters_info[i + 150]['Hebrew Word']\n",
        "            })\n",
        "\n",
        "    return sequences\n",
        "\n",
        "# Function to print the sequences found\n",
        "def print_sequences(sequences):\n",
        "    for seq in sequences:\n",
        "        print(f\"Yod at index {seq['Yod Index']} (Word: {seq['Yod Word']})\")\n",
        "        print(f\"Hey at index {seq['Hey Index']} (Word: {seq['Hey Word']})\")\n",
        "        print(f\"Vav at index {seq['Vav Index']} (Word: {seq['Vav Word']})\")\n",
        "        print(f\"Hey at index {seq['Hey Index']} (Word: {seq['Hey Word']})\")\n",
        "        print('-' * 40)\n",
        "\n",
        "# Main process\n",
        "filename = 'indexed_letters_with_words.csv'  # The CSV file generated earlier\n",
        "letters_info = read_torah_csv(filename)\n",
        "\n",
        "# Find and print the sequences\n",
        "sequences = find_yod_hey_vav_hey_sequences(letters_info)\n",
        "print_sequences(sequences)\n",
        "\n",
        "# Optionally, you can save the sequences to another CSV file if needed.\n"
      ],
      "metadata": {
        "colab": {
          "base_uri": "https://localhost:8080/"
        },
        "outputId": "92b9ead1-ed58-4f82-a771-1b554e34272e",
        "id": "yQacJObRpZ8S"
      },
      "execution_count": 21,
      "outputs": [
        {
          "output_type": "stream",
          "name": "stdout",
          "text": [
            "Yod at index 24068 (Word: הבכירה)\n",
            "Hey at index 24218 (Word: הצעירה)\n",
            "Vav at index 24168 (Word: ונחיה)\n",
            "Hey at index 24218 (Word: הצעירה)\n",
            "----------------------------------------\n",
            "Yod at index 33121 (Word: חי)\n",
            "Hey at index 33271 (Word: החתי)\n",
            "Vav at index 33221 (Word: ויקברו)\n",
            "Hey at index 33271 (Word: החתי)\n",
            "----------------------------------------\n",
            "Yod at index 57458 (Word: תאומים)\n",
            "Hey at index 57608 (Word: הורד)\n",
            "Vav at index 57558 (Word: ויקרא)\n",
            "Hey at index 57608 (Word: הורד)\n",
            "----------------------------------------\n",
            "Yod at index 82820 (Word: והוריתי)\n",
            "Hey at index 82970 (Word: ואראה)\n",
            "Vav at index 82920 (Word: וישב)\n",
            "Hey at index 82970 (Word: ואראה)\n",
            "----------------------------------------\n",
            "Yod at index 120161 (Word: סביב)\n",
            "Hey at index 120311 (Word: ליהוה)\n",
            "Vav at index 120261 (Word: ובצאתו)\n",
            "Hey at index 120311 (Word: ליהוה)\n",
            "----------------------------------------\n",
            "Yod at index 130774 (Word: הדברים)\n",
            "Hey at index 130924 (Word: אהרן)\n",
            "Vav at index 130874 (Word: והנה)\n",
            "Hey at index 130924 (Word: אהרן)\n",
            "----------------------------------------\n",
            "Yod at index 135195 (Word: ויעש)\n",
            "Hey at index 135345 (Word: ופניהם)\n",
            "Vav at index 135295 (Word: [קצותיו])\n",
            "Hey at index 135345 (Word: ופניהם)\n",
            "----------------------------------------\n",
            "Yod at index 141426 (Word: ויתן)\n",
            "Hey at index 141576 (Word: המלאכה)\n",
            "Vav at index 141526 (Word: ויקם)\n",
            "Hey at index 141576 (Word: המלאכה)\n",
            "----------------------------------------\n",
            "Yod at index 143799 (Word: יסירנה)\n",
            "Hey at index 143949 (Word: יהוה)\n",
            "Vav at index 143899 (Word: או)\n",
            "Hey at index 143949 (Word: יהוה)\n",
            "----------------------------------------\n",
            "Yod at index 146884 (Word: שתי)\n",
            "Hey at index 147034 (Word: הוא)\n",
            "Vav at index 146984 (Word: והזה)\n",
            "Hey at index 147034 (Word: הוא)\n",
            "----------------------------------------\n",
            "Yod at index 151524 (Word: וימשח)\n",
            "Hey at index 151674 (Word: החטאת)\n",
            "Vav at index 151624 (Word: ויחגר)\n",
            "Hey at index 151674 (Word: החטאת)\n",
            "----------------------------------------\n",
            "Yod at index 152649 (Word: מאיל)\n",
            "Hey at index 152799 (Word: משה)\n",
            "Vav at index 152749 (Word: בניו)\n",
            "Hey at index 152799 (Word: משה)\n",
            "----------------------------------------\n",
            "Yod at index 158186 (Word: יונה)\n",
            "Hey at index 158336 (Word: וראה)\n",
            "Vav at index 158286 (Word: בעור)\n",
            "Hey at index 158336 (Word: וראה)\n",
            "----------------------------------------\n",
            "Yod at index 163602 (Word: הבית)\n",
            "Hey at index 163752 (Word: העפר)\n",
            "Vav at index 163702 (Word: והשליכו)\n",
            "Hey at index 163752 (Word: העפר)\n",
            "----------------------------------------\n",
            "Yod at index 164675 (Word: עליו)\n",
            "Hey at index 164825 (Word: בטהור)\n",
            "Vav at index 164775 (Word: והנגע)\n",
            "Hey at index 164825 (Word: בטהור)\n",
            "----------------------------------------\n",
            "Yod at index 177574 (Word: קצירך)\n",
            "Hey at index 177724 (Word: ליהוה)\n",
            "Vav at index 177674 (Word: שבתון)\n",
            "Hey at index 177724 (Word: ליהוה)\n",
            "----------------------------------------\n",
            "Yod at index 206663 (Word: ידעת)\n",
            "Hey at index 206813 (Word: יהוה)\n",
            "Vav at index 206763 (Word: וארון)\n",
            "Hey at index 206813 (Word: יהוה)\n",
            "----------------------------------------\n",
            "Yod at index 226711 (Word: ויתיצב)\n",
            "Hey at index 226861 (Word: הכרמים)\n",
            "Vav at index 226811 (Word: ותלך)\n",
            "Hey at index 226861 (Word: הכרמים)\n",
            "----------------------------------------\n",
            "Yod at index 248483 (Word: ימות)\n",
            "Hey at index 248633 (Word: באיבה)\n",
            "Vav at index 248583 (Word: בו)\n",
            "Hey at index 248633 (Word: באיבה)\n",
            "----------------------------------------\n",
            "Yod at index 248550 (Word: יומת)\n",
            "Hey at index 248700 (Word: הדפו)\n",
            "Vav at index 248650 (Word: יומת)\n",
            "Hey at index 248700 (Word: הדפו)\n",
            "----------------------------------------\n",
            "Yod at index 249805 (Word: בעיניהם)\n",
            "Hey at index 249955 (Word: לאשה)\n",
            "Vav at index 249905 (Word: וכל)\n",
            "Hey at index 249955 (Word: לאשה)\n",
            "----------------------------------------\n",
            "Yod at index 258100 (Word: ברית)\n",
            "Hey at index 258250 (Word: יהוה)\n",
            "Vav at index 258200 (Word: ונושנתם)\n",
            "Hey at index 258250 (Word: יהוה)\n",
            "----------------------------------------\n",
            "Yod at index 266127 (Word: כי)\n",
            "Hey at index 266277 (Word: ההרה)\n",
            "Vav at index 266227 (Word: יהוה)\n",
            "Hey at index 266277 (Word: ההרה)\n",
            "----------------------------------------\n",
            "Yod at index 277434 (Word: לפני)\n",
            "Hey at index 277584 (Word: תעשה)\n",
            "Vav at index 277534 (Word: וזכרת)\n",
            "Hey at index 277584 (Word: תעשה)\n",
            "----------------------------------------\n",
            "Yod at index 285434 (Word: אביה)\n",
            "Hey at index 285584 (Word: העיר)\n",
            "Vav at index 285534 (Word: בתולה)\n",
            "Hey at index 285584 (Word: העיר)\n",
            "----------------------------------------\n"
          ]
        }
      ]
    }
  ]
}