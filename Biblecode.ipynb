{
  "nbformat": 4,
  "nbformat_minor": 0,
  "metadata": {
    "colab": {
      "provenance": [],
      "authorship_tag": "ABX9TyO4xGeDpbJQ4G7V3hAhn21Y",
      "include_colab_link": true
    },
    "kernelspec": {
      "name": "python3",
      "display_name": "Python 3"
    },
    "language_info": {
      "name": "python"
    }
  },
  "cells": [
    {
      "cell_type": "markdown",
      "metadata": {
        "id": "view-in-github",
        "colab_type": "text"
      },
      "source": [
        "<a href=\"https://colab.research.google.com/github/paintedpotato/biblecode/blob/main/Biblecode.ipynb\" target=\"_parent\"><img src=\"https://colab.research.google.com/assets/colab-badge.svg\" alt=\"Open In Colab\"/></a>"
      ]
    },
    {
      "cell_type": "code",
      "source": [
        "!pip install requests"
      ],
      "metadata": {
        "colab": {
          "base_uri": "https://localhost:8080/"
        },
        "id": "tojjJI65uj1R",
        "outputId": "7ba49721-0c63-434f-8331-0adc863cc9e4"
      },
      "execution_count": 2,
      "outputs": [
        {
          "output_type": "stream",
          "name": "stdout",
          "text": [
            "Requirement already satisfied: requests in /usr/local/lib/python3.10/dist-packages (2.32.3)\n",
            "Requirement already satisfied: charset-normalizer<4,>=2 in /usr/local/lib/python3.10/dist-packages (from requests) (3.3.2)\n",
            "Requirement already satisfied: idna<4,>=2.5 in /usr/local/lib/python3.10/dist-packages (from requests) (3.8)\n",
            "Requirement already satisfied: urllib3<3,>=1.21.1 in /usr/local/lib/python3.10/dist-packages (from requests) (2.0.7)\n",
            "Requirement already satisfied: certifi>=2017.4.17 in /usr/local/lib/python3.10/dist-packages (from requests) (2024.8.30)\n"
          ]
        }
      ]
    },
    {
      "cell_type": "markdown",
      "source": [
        "# Code below is only for learning purposes, it doesn't work for some reason"
      ],
      "metadata": {
        "id": "mtsbhxERvGIm"
      }
    },
    {
      "cell_type": "code",
      "execution_count": 3,
      "metadata": {
        "colab": {
          "base_uri": "https://localhost:8080/",
          "height": 353
        },
        "id": "r1aHhYRkuBCR",
        "outputId": "d3e9198d-ad14-4f53-a0d3-e3b8709ddfe2"
      },
      "outputs": [
        {
          "output_type": "error",
          "ename": "KeyError",
          "evalue": "'he'",
          "traceback": [
            "\u001b[0;31m---------------------------------------------------------------------------\u001b[0m",
            "\u001b[0;31mKeyError\u001b[0m                                  Traceback (most recent call last)",
            "\u001b[0;32m<ipython-input-3-b5bfb873fcdf>\u001b[0m in \u001b[0;36m<cell line: 33>\u001b[0;34m()\u001b[0m\n\u001b[1;32m     31\u001b[0m \u001b[0;34m\u001b[0m\u001b[0m\n\u001b[1;32m     32\u001b[0m \u001b[0;31m# Running the process\u001b[0m\u001b[0;34m\u001b[0m\u001b[0;34m\u001b[0m\u001b[0m\n\u001b[0;32m---> 33\u001b[0;31m \u001b[0mtorah_text\u001b[0m \u001b[0;34m=\u001b[0m \u001b[0mfetch_torah_from_sefaria\u001b[0m\u001b[0;34m(\u001b[0m\u001b[0;34m)\u001b[0m\u001b[0;34m\u001b[0m\u001b[0;34m\u001b[0m\u001b[0m\n\u001b[0m\u001b[1;32m     34\u001b[0m \u001b[0mletters_info\u001b[0m \u001b[0;34m=\u001b[0m \u001b[0mlist_letters_with_indices\u001b[0m\u001b[0;34m(\u001b[0m\u001b[0mtorah_text\u001b[0m\u001b[0;34m)\u001b[0m\u001b[0;34m\u001b[0m\u001b[0;34m\u001b[0m\u001b[0m\n\u001b[1;32m     35\u001b[0m \u001b[0;34m\u001b[0m\u001b[0m\n",
            "\u001b[0;32m<ipython-input-3-b5bfb873fcdf>\u001b[0m in \u001b[0;36mfetch_torah_from_sefaria\u001b[0;34m()\u001b[0m\n\u001b[1;32m      7\u001b[0m     \u001b[0mresponse\u001b[0m \u001b[0;34m=\u001b[0m \u001b[0mrequests\u001b[0m\u001b[0;34m.\u001b[0m\u001b[0mget\u001b[0m\u001b[0;34m(\u001b[0m\u001b[0murl\u001b[0m\u001b[0;34m)\u001b[0m\u001b[0;34m\u001b[0m\u001b[0;34m\u001b[0m\u001b[0m\n\u001b[1;32m      8\u001b[0m     \u001b[0mdata\u001b[0m \u001b[0;34m=\u001b[0m \u001b[0mresponse\u001b[0m\u001b[0;34m.\u001b[0m\u001b[0mjson\u001b[0m\u001b[0;34m(\u001b[0m\u001b[0;34m)\u001b[0m\u001b[0;34m\u001b[0m\u001b[0;34m\u001b[0m\u001b[0m\n\u001b[0;32m----> 9\u001b[0;31m     \u001b[0mtorah_text\u001b[0m \u001b[0;34m=\u001b[0m \u001b[0;34m' '\u001b[0m\u001b[0;34m.\u001b[0m\u001b[0mjoin\u001b[0m\u001b[0;34m(\u001b[0m\u001b[0mdata\u001b[0m\u001b[0;34m[\u001b[0m\u001b[0;34m'he'\u001b[0m\u001b[0;34m]\u001b[0m\u001b[0;34m)\u001b[0m  \u001b[0;31m# Joining all Hebrew text portions\u001b[0m\u001b[0;34m\u001b[0m\u001b[0;34m\u001b[0m\u001b[0m\n\u001b[0m\u001b[1;32m     10\u001b[0m     \u001b[0;32mreturn\u001b[0m \u001b[0mtorah_text\u001b[0m\u001b[0;34m\u001b[0m\u001b[0;34m\u001b[0m\u001b[0m\n\u001b[1;32m     11\u001b[0m \u001b[0;34m\u001b[0m\u001b[0m\n",
            "\u001b[0;31mKeyError\u001b[0m: 'he'"
          ]
        }
      ],
      "source": [
        "import requests\n",
        "import re\n",
        "\n",
        "# Fetching the full Torah text from Sefaria API\n",
        "def fetch_torah_from_sefaria():\n",
        "    url = 'https://www.sefaria.org/api/texts/Torah?lang=he'\n",
        "    response = requests.get(url)\n",
        "    data = response.json()\n",
        "    torah_text = ' '.join(data['he'])  # Joining all Hebrew text portions\n",
        "    return torah_text\n",
        "\n",
        "# Clean and prepare the Torah text\n",
        "def clean_text(text):\n",
        "    return re.sub(r'[^א-ת ]', '', text)\n",
        "\n",
        "# Function to list every letter with its index and the word it belongs to\n",
        "def list_letters_with_indices(text):\n",
        "    clean_torah = clean_text(text)\n",
        "    words = clean_torah.split()\n",
        "    letter_list = []\n",
        "    letter_index = 0\n",
        "    for word in words:\n",
        "        for letter in word:\n",
        "            letter_list.append({\n",
        "                'Letter': letter,\n",
        "                'Index': letter_index,\n",
        "                'Word in Hebrew': word\n",
        "            })\n",
        "            letter_index += 1\n",
        "    return letter_list\n",
        "\n",
        "# Running the process\n",
        "torah_text = fetch_torah_from_sefaria()\n",
        "letters_info = list_letters_with_indices(torah_text)\n",
        "\n",
        "# Display the first 20 entries as a demonstration\n",
        "for entry in letters_info[:20]:\n",
        "    print(f\"Letter: {entry['Letter']}, Index: {entry['Index']}, Word: {entry['Word in Hebrew']}\")\n"
      ]
    },
    {
      "cell_type": "markdown",
      "source": [
        "# This code works but only gets half job done"
      ],
      "metadata": {
        "id": "J5qhsECWvLuz"
      }
    },
    {
      "cell_type": "code",
      "source": [
        "import requests\n",
        "import re\n",
        "\n",
        "# Function to fetch the Torah from Sefaria\n",
        "def fetch_torah_from_sefaria():\n",
        "    books = ['Genesis', 'Exodus', 'Leviticus', 'Numbers', 'Deuteronomy']\n",
        "    torah_text = \"\"\n",
        "\n",
        "    # Loop through each book of the Torah\n",
        "    for book in books:\n",
        "        url = f\"https://www.sefaria.org/api/texts/{book}?lang=he\"\n",
        "        response = requests.get(url)\n",
        "        if response.status_code == 200:\n",
        "            data = response.json()\n",
        "            # Joining all chapters' Hebrew text for this book\n",
        "            torah_text += ' '.join(data['he']) + ' '\n",
        "        else:\n",
        "            print(f\"Failed to fetch {book}\")\n",
        "\n",
        "    return torah_text\n",
        "\n",
        "# Clean and prepare the Torah text\n",
        "def clean_text(text):\n",
        "    # Remove any non-Hebrew characters and keep only Hebrew letters and spaces\n",
        "    return re.sub(r'[^א-ת ]', '', text)\n",
        "\n",
        "# Function to list every letter with its index and the word it belongs to\n",
        "def list_letters_with_indices(text):\n",
        "    clean_torah = clean_text(text)\n",
        "    words = clean_torah.split()  # Split the text into words\n",
        "    letter_list = []\n",
        "    letter_index = 0\n",
        "\n",
        "    for word in words:\n",
        "        for letter in word:\n",
        "            letter_list.append({\n",
        "                'Letter': letter,\n",
        "                'Index': letter_index,\n",
        "                'Word in Hebrew': word\n",
        "            })\n",
        "            letter_index += 1  # Increment the index for each letter\n",
        "\n",
        "    return letter_list\n",
        "\n",
        "# Fetch the full Torah text\n",
        "torah_text = fetch_torah_from_sefaria()\n",
        "\n",
        "# Running the function\n",
        "letters_info = list_letters_with_indices(torah_text)\n",
        "\n",
        "# Displaying the first 20 letters as an example\n",
        "for entry in letters_info[:20]:\n",
        "    print(f\"Letter: {entry['Letter']}, Index: {entry['Index']}, Word: {entry['Word in Hebrew']}\")\n"
      ],
      "metadata": {
        "colab": {
          "base_uri": "https://localhost:8080/"
        },
        "id": "jTZpmY7kuuO5",
        "outputId": "09cdf66d-4c84-40c2-b7c2-109a5376af35"
      },
      "execution_count": 4,
      "outputs": [
        {
          "output_type": "stream",
          "name": "stdout",
          "text": [
            "Letter: ב, Index: 0, Word: בראשית\n",
            "Letter: ר, Index: 1, Word: בראשית\n",
            "Letter: א, Index: 2, Word: בראשית\n",
            "Letter: ש, Index: 3, Word: בראשית\n",
            "Letter: י, Index: 4, Word: בראשית\n",
            "Letter: ת, Index: 5, Word: בראשית\n",
            "Letter: ב, Index: 6, Word: ברא\n",
            "Letter: ר, Index: 7, Word: ברא\n",
            "Letter: א, Index: 8, Word: ברא\n",
            "Letter: א, Index: 9, Word: אלהים\n",
            "Letter: ל, Index: 10, Word: אלהים\n",
            "Letter: ה, Index: 11, Word: אלהים\n",
            "Letter: י, Index: 12, Word: אלהים\n",
            "Letter: ם, Index: 13, Word: אלהים\n",
            "Letter: א, Index: 14, Word: את\n",
            "Letter: ת, Index: 15, Word: את\n",
            "Letter: ה, Index: 16, Word: השמים\n",
            "Letter: ש, Index: 17, Word: השמים\n",
            "Letter: מ, Index: 18, Word: השמים\n",
            "Letter: י, Index: 19, Word: השמים\n"
          ]
        }
      ]
    },
    {
      "cell_type": "markdown",
      "source": [
        "# Entire code"
      ],
      "metadata": {
        "id": "rtuFhhvnvQiD"
      }
    },
    {
      "cell_type": "code",
      "source": [
        "import requests\n",
        "import re\n",
        "import csv\n",
        "\n",
        "# Function to fetch the Torah from Sefaria\n",
        "def fetch_torah_from_sefaria():\n",
        "    books = ['Genesis', 'Exodus', 'Leviticus', 'Numbers', 'Deuteronomy']\n",
        "    torah_text = \"\"\n",
        "\n",
        "    # Loop through each book of the Torah\n",
        "    for book in books:\n",
        "        url = f\"https://www.sefaria.org/api/texts/{book}?lang=he\"\n",
        "        response = requests.get(url)\n",
        "        if response.status_code == 200:\n",
        "            data = response.json()\n",
        "            # Joining all chapters' Hebrew text for this book\n",
        "            torah_text += ' '.join(data['he']) + ' '\n",
        "        else:\n",
        "            print(f\"Failed to fetch {book}\")\n",
        "\n",
        "    return torah_text\n",
        "\n",
        "# Clean and prepare the Torah text\n",
        "def clean_text(text):\n",
        "    # Remove any non-Hebrew characters and keep only Hebrew letters and spaces\n",
        "    return re.sub(r'[^א-ת ]', '', text)\n",
        "\n",
        "# Function to list every letter with its index (starting from 1) and the word it belongs to\n",
        "def list_letters_with_indices(text):\n",
        "    clean_torah = clean_text(text)\n",
        "    words = clean_torah.split()  # Split the text into words\n",
        "    letter_list = []\n",
        "    letter_index = 1  # Start index from 1 instead of 0\n",
        "\n",
        "    for word in words:\n",
        "        for letter in word:\n",
        "            letter_list.append({\n",
        "                'Letter': letter,\n",
        "                'Index': letter_index,\n",
        "                'Word in Hebrew': word\n",
        "            })\n",
        "            letter_index += 1  # Increment the index for each letter\n",
        "\n",
        "    return letter_list\n",
        "\n",
        "# Save the letter list to a CSV file\n",
        "def save_to_csv(letters_info, filename):\n",
        "    # Define the column headers\n",
        "    fieldnames = ['Index', 'Letter', 'Word in Hebrew']\n",
        "\n",
        "    # Write to CSV file\n",
        "    with open(filename, mode='w', newline='', encoding='utf-8') as file:\n",
        "        writer = csv.DictWriter(file, fieldnames=fieldnames)\n",
        "        writer.writeheader()\n",
        "        for entry in letters_info:\n",
        "            writer.writerow(entry)\n",
        "\n",
        "# Fetch the full Torah text\n",
        "torah_text = fetch_torah_from_sefaria()\n",
        "\n",
        "# Get the list of letters with their indices and corresponding word\n",
        "letters_info = list_letters_with_indices(torah_text)\n",
        "\n",
        "# Save the results to a CSV file\n",
        "save_to_csv(letters_info, 'torah_letters.csv')\n",
        "\n",
        "print(f\"Saved {len(letters_info)} letters to torah_letters.csv\")\n"
      ],
      "metadata": {
        "colab": {
          "base_uri": "https://localhost:8080/"
        },
        "id": "Oa33PAgovSH2",
        "outputId": "167fe6c8-b722-49c1-9137-b11928dc3187"
      },
      "execution_count": 3,
      "outputs": [
        {
          "output_type": "stream",
          "name": "stdout",
          "text": [
            "Saved 8653 letters to torah_letters.csv\n"
          ]
        }
      ]
    },
    {
      "cell_type": "markdown",
      "source": [
        "# Code to find the sequence \"tav\" \"vav\" \"resh\" \"hey\" and output the indices"
      ],
      "metadata": {
        "id": "xpnJmrTo0MtN"
      }
    },
    {
      "cell_type": "code",
      "source": [
        "import csv\n",
        "\n",
        "# Function to read the CSV and load the letter data\n",
        "def read_torah_csv(filename):\n",
        "    letters_info = []\n",
        "\n",
        "    with open(filename, mode='r', encoding='utf-8') as file:\n",
        "        reader = csv.DictReader(file)\n",
        "        for row in reader:\n",
        "            letters_info.append({\n",
        "                'Index': int(row['Index']),\n",
        "                'Letter': row['Letter'],\n",
        "                'Word in Hebrew': row['Word in Hebrew']\n",
        "            })\n",
        "\n",
        "    return letters_info\n",
        "\n",
        "# Function to find sequences of Tav, Vav, Resh, Hey separated by 50 letters\n",
        "def find_tav_vav_resh_hey_sequences(letters_info):\n",
        "    sequences = []\n",
        "\n",
        "    # Loop through the list of letters\n",
        "    for i in range(len(letters_info) - 150):\n",
        "        if (letters_info[i]['Letter'] == 'ת' and\n",
        "            letters_info[i + 50]['Letter'] == 'ו' and\n",
        "            letters_info[i + 100]['Letter'] == 'ר' and\n",
        "            letters_info[i + 150]['Letter'] == 'ה'):\n",
        "            sequences.append({\n",
        "                'Tav Index': letters_info[i]['Index'],\n",
        "                'Tav Word': letters_info[i]['Word in Hebrew'],\n",
        "                'Vav Index': letters_info[i + 50]['Index'],\n",
        "                'Vav Word': letters_info[i + 50]['Word in Hebrew'],\n",
        "                'Resh Index': letters_info[i + 100]['Index'],\n",
        "                'Resh Word': letters_info[i + 100]['Word in Hebrew'],\n",
        "                'Hey Index': letters_info[i + 150]['Index'],\n",
        "                'Hey Word': letters_info[i + 150]['Word in Hebrew']\n",
        "            })\n",
        "\n",
        "    return sequences\n",
        "\n",
        "# Function to print the sequences found\n",
        "def print_sequences(sequences):\n",
        "    for seq in sequences:\n",
        "        print(f\"Tav at index {seq['Tav Index']} (Word: {seq['Tav Word']})\")\n",
        "        print(f\"Vav at index {seq['Vav Index']} (Word: {seq['Vav Word']})\")\n",
        "        print(f\"Resh at index {seq['Resh Index']} (Word: {seq['Resh Word']})\")\n",
        "        print(f\"Hey at index {seq['Hey Index']} (Word: {seq['Hey Word']})\")\n",
        "        print('-' * 40)\n",
        "\n",
        "# Main process\n",
        "filename = 'torah_letters.csv'  # The CSV file generated earlier\n",
        "letters_info = read_torah_csv(filename)\n",
        "\n",
        "# Find and print the sequences\n",
        "sequences = find_tav_vav_resh_hey_sequences(letters_info)\n",
        "print_sequences(sequences)\n",
        "\n",
        "# Optionally, you can save the sequences to another CSV file if needed.\n"
      ],
      "metadata": {
        "colab": {
          "base_uri": "https://localhost:8080/"
        },
        "id": "3pfhNZ3w0MBz",
        "outputId": "733bd306-6749-44ff-a35a-633e725b1d98"
      },
      "execution_count": 6,
      "outputs": [
        {
          "output_type": "stream",
          "name": "stdout",
          "text": [
            "Tav at index 6 (Word: בראשית)\n",
            "Vav at index 56 (Word: תהום)\n",
            "Resh at index 106 (Word: וירא)\n",
            "Hey at index 156 (Word: אלהיםלאור)\n",
            "----------------------------------------\n",
            "Tav at index 1685 (Word: שמות)\n",
            "Vav at index 1735 (Word: ויהודה)\n",
            "Resh at index 1785 (Word: ירךיעקב)\n",
            "Hey at index 1835 (Word: ההוא)\n",
            "----------------------------------------\n",
            "Tav at index 5879 (Word: אתו)\n",
            "Vav at index 5929 (Word: עלדגלו)\n",
            "Resh at index 5979 (Word: ישראל)\n",
            "Hey at index 6029 (Word: צוה)\n",
            "----------------------------------------\n",
            "Tav at index 8445 (Word: תנגפו)\n",
            "Vav at index 8495 (Word: ותזדו)\n",
            "Resh at index 8545 (Word: כאשר)\n",
            "Hey at index 8595 (Word: יהוה)\n",
            "----------------------------------------\n"
          ]
        }
      ]
    },
    {
      "cell_type": "markdown",
      "source": [
        "# Code to find the reverse of TORH"
      ],
      "metadata": {
        "id": "pd0X3taQpL-P"
      }
    },
    {
      "cell_type": "code",
      "source": [
        "import csv\n",
        "\n",
        "# Function to read the CSV and load the letter data\n",
        "def read_torah_csv(filename):\n",
        "    letters_info = []\n",
        "\n",
        "    with open(filename, mode='r', encoding='utf-8') as file:\n",
        "        reader = csv.DictReader(file)\n",
        "        for row in reader:\n",
        "            letters_info.append({\n",
        "                'Index': int(row['Index']),\n",
        "                'Letter': row['Letter'],\n",
        "                'Word in Hebrew': row['Word in Hebrew']\n",
        "            })\n",
        "\n",
        "    return letters_info\n",
        "\n",
        "# Function to find sequences of Tav, Vav, Resh, Hey separated by 50 letters\n",
        "def find_tav_vav_resh_hey_sequences(letters_info):\n",
        "    sequences = []\n",
        "\n",
        "    # Loop through the list of letters\n",
        "    for i in range(len(letters_info) - 150):\n",
        "        if (letters_info[i]['Letter'] == 'ה' and\n",
        "            letters_info[i + 50]['Letter'] == 'ר' and\n",
        "            letters_info[i + 100]['Letter'] == 'ו' and\n",
        "            letters_info[i + 150]['Letter'] == 'ת'):\n",
        "            sequences.append({\n",
        "                'Hey Index': letters_info[i]['Index'],\n",
        "                'Hey Word': letters_info[i]['Word in Hebrew'],\n",
        "                'Resh Index': letters_info[i + 50]['Index'],\n",
        "                'Resh Word': letters_info[i + 50]['Word in Hebrew'],\n",
        "                'Vav Index': letters_info[i + 100]['Index'],\n",
        "                'Vav Word': letters_info[i + 100]['Word in Hebrew'],\n",
        "                'Tav Index': letters_info[i + 150]['Index'],\n",
        "                'Tav Word': letters_info[i + 150]['Word in Hebrew']\n",
        "            })\n",
        "\n",
        "    return sequences\n",
        "\n",
        "# Function to print the sequences found\n",
        "def print_sequences(sequences):\n",
        "    for seq in sequences:\n",
        "        print(f\"Hey at index {seq['Hey Index']} (Word: {seq['Hey Word']})\")\n",
        "        print(f\"Resh at index {seq['Resh Index']} (Word: {seq['Resh Word']})\")\n",
        "        print(f\"Vav at index {seq['Vav Index']} (Word: {seq['Vav Word']})\")\n",
        "        print(f\"Tav at index {seq['Tav Index']} (Word: {seq['Tav Word']})\")\n",
        "        print('-' * 40)\n",
        "\n",
        "# Main process\n",
        "filename = 'torah_letters.csv'  # The CSV file generated earlier\n",
        "letters_info = read_torah_csv(filename)\n",
        "\n",
        "# Find and print the sequences\n",
        "sequences = find_tav_vav_resh_hey_sequences(letters_info)\n",
        "print_sequences(sequences)\n",
        "\n",
        "# Optionally, you can save the sequences to another CSV file if needed.\n"
      ],
      "metadata": {
        "colab": {
          "base_uri": "https://localhost:8080/"
        },
        "outputId": "87162880-7c2c-47ac-c35b-f0726909817a",
        "id": "BsTRtErEpLMS"
      },
      "execution_count": 4,
      "outputs": [
        {
          "output_type": "stream",
          "name": "stdout",
          "text": [
            "Hey at index 3604 (Word: אלמשה)\n",
            "Resh at index 3654 (Word: מצרים)\n",
            "Vav at index 3704 (Word: שמות)\n",
            "Tav at index 3754 (Word: אתם)\n",
            "----------------------------------------\n"
          ]
        }
      ]
    },
    {
      "cell_type": "markdown",
      "source": [
        "# Code to find YAHWEH"
      ],
      "metadata": {
        "id": "KxbWKAErrpgG"
      }
    },
    {
      "cell_type": "code",
      "source": [],
      "metadata": {
        "id": "c2NnFurfsOaS"
      },
      "execution_count": null,
      "outputs": []
    },
    {
      "cell_type": "code",
      "source": [
        "import csv\n",
        "\n",
        "# Function to read the CSV and load the letter data\n",
        "def read_torah_csv(filename):\n",
        "    letters_info = []\n",
        "\n",
        "    with open(filename, mode='r', encoding='utf-8') as file:\n",
        "        reader = csv.DictReader(file)\n",
        "        for row in reader:\n",
        "            letters_info.append({\n",
        "                'Index': int(row['Index']),\n",
        "                'Letter': row['Letter'],\n",
        "                'Word in Hebrew': row['Word in Hebrew']\n",
        "            })\n",
        "\n",
        "    return letters_info\n",
        "\n",
        "# Function to find sequences of Tav, Vav, Resh, Hey separated by 50 letters\n",
        "def find_yod_hey_vav_hey_sequences(letters_info):\n",
        "    sequences = []\n",
        "\n",
        "    # Loop through the list of letters\n",
        "    for i in range(len(letters_info) - 150):\n",
        "        if (letters_info[i]['Letter'] == 'י' and\n",
        "            letters_info[i + 50]['Letter'] == 'ה' and\n",
        "            letters_info[i + 100]['Letter'] == 'ו' and\n",
        "            letters_info[i + 150]['Letter'] == 'ה'):\n",
        "            sequences.append({\n",
        "                'Yod Index': letters_info[i]['Index'],\n",
        "                'Yod Word': letters_info[i]['Word in Hebrew'],\n",
        "                'Hey Index': letters_info[i + 50]['Index'],\n",
        "                'Hey Word': letters_info[i + 50]['Word in Hebrew'],\n",
        "                'Vav Index': letters_info[i + 100]['Index'],\n",
        "                'Vav Word': letters_info[i + 100]['Word in Hebrew'],\n",
        "                'Hey Index': letters_info[i + 150]['Index'],\n",
        "                'Hey Word': letters_info[i + 150]['Word in Hebrew']\n",
        "            })\n",
        "\n",
        "    return sequences\n",
        "\n",
        "# Function to print the sequences found\n",
        "def print_sequences(sequences):\n",
        "    for seq in sequences:\n",
        "        print(f\"Yod at index {seq['Yod Index']} (Word: {seq['Yod Word']})\")\n",
        "        print(f\"Hey at index {seq['Hey Index']} (Word: {seq['Hey Word']})\")\n",
        "        print(f\"Vav at index {seq['Vav Index']} (Word: {seq['Vav Word']})\")\n",
        "        print(f\"Hey at index {seq['Hey Index']} (Word: {seq['Hey Word']})\")\n",
        "        print('-' * 40)\n",
        "\n",
        "# Main process\n",
        "filename = 'torah_letters.csv'  # The CSV file generated earlier\n",
        "letters_info = read_torah_csv(filename)\n",
        "\n",
        "# Find and print the sequences\n",
        "sequences = find_yod_hey_vav_hey_sequences(letters_info)\n",
        "print_sequences(sequences)\n",
        "\n",
        "# Optionally, you can save the sequences to another CSV file if needed.\n"
      ],
      "metadata": {
        "id": "zBWsqO50sOsa"
      },
      "execution_count": 6,
      "outputs": []
    }
  ]
}